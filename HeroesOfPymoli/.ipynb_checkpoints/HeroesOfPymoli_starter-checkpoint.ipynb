{
 "cells": [
  {
   "cell_type": "markdown",
   "metadata": {},
   "source": [
    "### Heroes Of Pymoli Data Analysis\n",
    "* Of the 1163 active players, the vast majority are male (84%). There also exists, a smaller, but notable proportion of female players (14%).\n",
    "\n",
    "* Our peak age demographic falls between 20-24 (44.8%) with secondary groups falling between 15-19 (18.60%) and 25-29 (13.4%).  \n",
    "-----"
   ]
  },
  {
   "cell_type": "markdown",
   "metadata": {},
   "source": [
    "### Note\n",
    "* Instructions have been included for each segment. You do not have to follow them exactly, but they are included to help you think through the steps."
   ]
  },
  {
   "cell_type": "code",
   "execution_count": 2,
   "metadata": {},
   "outputs": [
    {
     "data": {
      "text/html": [
       "<div>\n",
       "<style scoped>\n",
       "    .dataframe tbody tr th:only-of-type {\n",
       "        vertical-align: middle;\n",
       "    }\n",
       "\n",
       "    .dataframe tbody tr th {\n",
       "        vertical-align: top;\n",
       "    }\n",
       "\n",
       "    .dataframe thead th {\n",
       "        text-align: right;\n",
       "    }\n",
       "</style>\n",
       "<table border=\"1\" class=\"dataframe\">\n",
       "  <thead>\n",
       "    <tr style=\"text-align: right;\">\n",
       "      <th></th>\n",
       "      <th>Purchase ID</th>\n",
       "      <th>SN</th>\n",
       "      <th>Age</th>\n",
       "      <th>Gender</th>\n",
       "      <th>Item ID</th>\n",
       "      <th>Item Name</th>\n",
       "      <th>Price</th>\n",
       "    </tr>\n",
       "  </thead>\n",
       "  <tbody>\n",
       "    <tr>\n",
       "      <th>0</th>\n",
       "      <td>0</td>\n",
       "      <td>Lisim78</td>\n",
       "      <td>20</td>\n",
       "      <td>Male</td>\n",
       "      <td>108</td>\n",
       "      <td>Extraction, Quickblade Of Trembling Hands</td>\n",
       "      <td>3.53</td>\n",
       "    </tr>\n",
       "    <tr>\n",
       "      <th>1</th>\n",
       "      <td>1</td>\n",
       "      <td>Lisovynya38</td>\n",
       "      <td>40</td>\n",
       "      <td>Male</td>\n",
       "      <td>143</td>\n",
       "      <td>Frenzied Scimitar</td>\n",
       "      <td>1.56</td>\n",
       "    </tr>\n",
       "    <tr>\n",
       "      <th>2</th>\n",
       "      <td>2</td>\n",
       "      <td>Ithergue48</td>\n",
       "      <td>24</td>\n",
       "      <td>Male</td>\n",
       "      <td>92</td>\n",
       "      <td>Final Critic</td>\n",
       "      <td>4.88</td>\n",
       "    </tr>\n",
       "    <tr>\n",
       "      <th>3</th>\n",
       "      <td>3</td>\n",
       "      <td>Chamassasya86</td>\n",
       "      <td>24</td>\n",
       "      <td>Male</td>\n",
       "      <td>100</td>\n",
       "      <td>Blindscythe</td>\n",
       "      <td>3.27</td>\n",
       "    </tr>\n",
       "    <tr>\n",
       "      <th>4</th>\n",
       "      <td>4</td>\n",
       "      <td>Iskosia90</td>\n",
       "      <td>23</td>\n",
       "      <td>Male</td>\n",
       "      <td>131</td>\n",
       "      <td>Fury</td>\n",
       "      <td>1.44</td>\n",
       "    </tr>\n",
       "  </tbody>\n",
       "</table>\n",
       "</div>"
      ],
      "text/plain": [
       "   Purchase ID             SN  Age Gender  Item ID  \\\n",
       "0            0        Lisim78   20   Male      108   \n",
       "1            1    Lisovynya38   40   Male      143   \n",
       "2            2     Ithergue48   24   Male       92   \n",
       "3            3  Chamassasya86   24   Male      100   \n",
       "4            4      Iskosia90   23   Male      131   \n",
       "\n",
       "                                   Item Name  Price  \n",
       "0  Extraction, Quickblade Of Trembling Hands   3.53  \n",
       "1                          Frenzied Scimitar   1.56  \n",
       "2                               Final Critic   4.88  \n",
       "3                                Blindscythe   3.27  \n",
       "4                                       Fury   1.44  "
      ]
     },
     "execution_count": 2,
     "metadata": {},
     "output_type": "execute_result"
    }
   ],
   "source": [
    "# Dependencies and Setup\n",
    "import pandas as pd\n",
    "import numpy as np\n",
    "\n",
    "# File to Load (Remember to Change These)\n",
    "file_to_load = \"Resources/purchase_data.csv\"\n",
    "\n",
    "# Read Purchasing File and store into Pandas data frame\n",
    "purchase_data = pd.read_csv(file_to_load)\n",
    "purchase_data.head()\n"
   ]
  },
  {
   "cell_type": "markdown",
   "metadata": {},
   "source": [
    "## Player Count"
   ]
  },
  {
   "cell_type": "markdown",
   "metadata": {},
   "source": [
    "* Display the total number of players\n"
   ]
  },
  {
   "cell_type": "code",
   "execution_count": 3,
   "metadata": {},
   "outputs": [
    {
     "data": {
      "text/html": [
       "<div>\n",
       "<style scoped>\n",
       "    .dataframe tbody tr th:only-of-type {\n",
       "        vertical-align: middle;\n",
       "    }\n",
       "\n",
       "    .dataframe tbody tr th {\n",
       "        vertical-align: top;\n",
       "    }\n",
       "\n",
       "    .dataframe thead th {\n",
       "        text-align: right;\n",
       "    }\n",
       "</style>\n",
       "<table border=\"1\" class=\"dataframe\">\n",
       "  <thead>\n",
       "    <tr style=\"text-align: right;\">\n",
       "      <th></th>\n",
       "      <th>Purchase ID</th>\n",
       "      <th>SN</th>\n",
       "      <th>Age</th>\n",
       "      <th>Gender</th>\n",
       "      <th>Item ID</th>\n",
       "      <th>Item Name</th>\n",
       "      <th>Price</th>\n",
       "    </tr>\n",
       "  </thead>\n",
       "  <tbody>\n",
       "    <tr>\n",
       "      <th>0</th>\n",
       "      <td>0</td>\n",
       "      <td>Lisim78</td>\n",
       "      <td>20</td>\n",
       "      <td>Male</td>\n",
       "      <td>108</td>\n",
       "      <td>Extraction, Quickblade Of Trembling Hands</td>\n",
       "      <td>3.53</td>\n",
       "    </tr>\n",
       "    <tr>\n",
       "      <th>1</th>\n",
       "      <td>1</td>\n",
       "      <td>Lisovynya38</td>\n",
       "      <td>40</td>\n",
       "      <td>Male</td>\n",
       "      <td>143</td>\n",
       "      <td>Frenzied Scimitar</td>\n",
       "      <td>1.56</td>\n",
       "    </tr>\n",
       "    <tr>\n",
       "      <th>2</th>\n",
       "      <td>2</td>\n",
       "      <td>Ithergue48</td>\n",
       "      <td>24</td>\n",
       "      <td>Male</td>\n",
       "      <td>92</td>\n",
       "      <td>Final Critic</td>\n",
       "      <td>4.88</td>\n",
       "    </tr>\n",
       "    <tr>\n",
       "      <th>3</th>\n",
       "      <td>3</td>\n",
       "      <td>Chamassasya86</td>\n",
       "      <td>24</td>\n",
       "      <td>Male</td>\n",
       "      <td>100</td>\n",
       "      <td>Blindscythe</td>\n",
       "      <td>3.27</td>\n",
       "    </tr>\n",
       "    <tr>\n",
       "      <th>4</th>\n",
       "      <td>4</td>\n",
       "      <td>Iskosia90</td>\n",
       "      <td>23</td>\n",
       "      <td>Male</td>\n",
       "      <td>131</td>\n",
       "      <td>Fury</td>\n",
       "      <td>1.44</td>\n",
       "    </tr>\n",
       "  </tbody>\n",
       "</table>\n",
       "</div>"
      ],
      "text/plain": [
       "   Purchase ID             SN  Age Gender  Item ID  \\\n",
       "0            0        Lisim78   20   Male      108   \n",
       "1            1    Lisovynya38   40   Male      143   \n",
       "2            2     Ithergue48   24   Male       92   \n",
       "3            3  Chamassasya86   24   Male      100   \n",
       "4            4      Iskosia90   23   Male      131   \n",
       "\n",
       "                                   Item Name  Price  \n",
       "0  Extraction, Quickblade Of Trembling Hands   3.53  \n",
       "1                          Frenzied Scimitar   1.56  \n",
       "2                               Final Critic   4.88  \n",
       "3                                Blindscythe   3.27  \n",
       "4                                       Fury   1.44  "
      ]
     },
     "execution_count": 3,
     "metadata": {},
     "output_type": "execute_result"
    }
   ],
   "source": [
    "#DataFrame.drop_duplicates(subset=None, keep='first', inplace=False)[source]\n",
    "#Total players in purchase data\n",
    "df_unique_players = purchase_data.drop_duplicates(subset=\"SN\", keep='first', inplace=False)\n",
    "total_unique_players = len(df_unique_players.SN)\n",
    "df_unique_players.head()"
   ]
  },
  {
   "cell_type": "markdown",
   "metadata": {},
   "source": [
    "## Purchasing Analysis (Total)"
   ]
  },
  {
   "cell_type": "markdown",
   "metadata": {},
   "source": [
    "* Run basic calculations to obtain number of unique items, average price, etc.\n",
    "\n",
    "\n",
    "* Create a summary data frame to hold the results\n",
    "\n",
    "\n",
    "* Optional: give the displayed data cleaner formatting\n",
    "\n",
    "\n",
    "* Display the summary data frame\n"
   ]
  },
  {
   "cell_type": "code",
   "execution_count": 4,
   "metadata": {
    "scrolled": true
   },
   "outputs": [
    {
     "data": {
      "text/plain": [
       "183"
      ]
     },
     "execution_count": 4,
     "metadata": {},
     "output_type": "execute_result"
    }
   ],
   "source": [
    "#Number of unique items\n",
    "item_array = purchase_data['Item ID'].unique()\n",
    "item_i = item_array.size\n",
    "item_i"
   ]
  },
  {
   "cell_type": "code",
   "execution_count": 5,
   "metadata": {},
   "outputs": [
    {
     "data": {
      "text/plain": [
       "3.0433879781420767"
      ]
     },
     "execution_count": 5,
     "metadata": {},
     "output_type": "execute_result"
    }
   ],
   "source": [
    "#Average Price of item \n",
    "df = purchase_data[['Item ID', 'Price']]\n",
    "df_unique = df.drop_duplicates(subset='Item ID')\n",
    "price_sum = df_unique['Price'].sum()\n",
    "Avg_unique_item_price = price_sum/item_i\n",
    "Avg_unique_item_price\n"
   ]
  },
  {
   "cell_type": "code",
   "execution_count": 6,
   "metadata": {
    "scrolled": false
   },
   "outputs": [
    {
     "data": {
      "text/plain": [
       "780"
      ]
     },
     "execution_count": 6,
     "metadata": {},
     "output_type": "execute_result"
    }
   ],
   "source": [
    "#total purchases\n",
    "total_purchases_i = purchase_data['Purchase ID'].count()\n",
    "total_purchases_i"
   ]
  },
  {
   "cell_type": "code",
   "execution_count": 7,
   "metadata": {},
   "outputs": [
    {
     "data": {
      "text/plain": [
       "2379.77"
      ]
     },
     "execution_count": 7,
     "metadata": {},
     "output_type": "execute_result"
    }
   ],
   "source": [
    "#Total revenue\n",
    "total_rev = purchase_data['Price'].sum()\n",
    "total_rev\n"
   ]
  },
  {
   "cell_type": "code",
   "execution_count": 8,
   "metadata": {},
   "outputs": [
    {
     "data": {
      "text/html": [
       "<div>\n",
       "<style scoped>\n",
       "    .dataframe tbody tr th:only-of-type {\n",
       "        vertical-align: middle;\n",
       "    }\n",
       "\n",
       "    .dataframe tbody tr th {\n",
       "        vertical-align: top;\n",
       "    }\n",
       "\n",
       "    .dataframe thead th {\n",
       "        text-align: right;\n",
       "    }\n",
       "</style>\n",
       "<table border=\"1\" class=\"dataframe\">\n",
       "  <thead>\n",
       "    <tr style=\"text-align: right;\">\n",
       "      <th></th>\n",
       "      <th>Total_Players</th>\n",
       "      <th>Items</th>\n",
       "      <th>Avg_Item_Cost</th>\n",
       "      <th>Total_Purchases</th>\n",
       "      <th>Total_Revenue</th>\n",
       "    </tr>\n",
       "  </thead>\n",
       "  <tbody>\n",
       "    <tr>\n",
       "      <th>0</th>\n",
       "      <td>576</td>\n",
       "      <td>183</td>\n",
       "      <td>3.04</td>\n",
       "      <td>780</td>\n",
       "      <td>2379.77</td>\n",
       "    </tr>\n",
       "  </tbody>\n",
       "</table>\n",
       "</div>"
      ],
      "text/plain": [
       "   Total_Players  Items  Avg_Item_Cost  Total_Purchases  Total_Revenue\n",
       "0            576    183           3.04              780        2379.77"
      ]
     },
     "execution_count": 8,
     "metadata": {},
     "output_type": "execute_result"
    }
   ],
   "source": [
    "#Purchase Summary DF ---> DROP INDEX COL!\n",
    "Purchase_Summary_Raw = {\n",
    "    \"Total_Players\": [total_unique_players],\n",
    "    \"Items\": [item_i],\n",
    "    \"Avg_Item_Cost\": [Avg_unique_item_price],\n",
    "    \"Total_Purchases\": [total_purchases_i],\n",
    "    \"Total_Revenue\": [total_rev]  \n",
    "}\n",
    "Purchase_Summary_df = pd.DataFrame(Purchase_Summary_Raw, columns=[\"Total_Players\", \"Items\", \"Avg_Item_Cost\", \"Total_Purchases\", \"Total_Revenue\"])\n",
    "Purchase_Summary_dfr = Purchase_Summary_df.round(decimals=2)\n",
    "Purchase_Summary_dfr"
   ]
  },
  {
   "cell_type": "markdown",
   "metadata": {},
   "source": [
    "## Gender Demographics"
   ]
  },
  {
   "cell_type": "markdown",
   "metadata": {},
   "source": [
    "* Percentage and Count of Male Players\n",
    "\n",
    "\n",
    "* Percentage and Count of Female Players\n",
    "\n",
    "\n",
    "* Percentage and Count of Other / Non-Disclosed\n",
    "\n",
    "\n"
   ]
  },
  {
   "cell_type": "code",
   "execution_count": 9,
   "metadata": {},
   "outputs": [
    {
     "data": {
      "text/plain": [
       "Male                     484\n",
       "Female                    81\n",
       "Other / Non-Disclosed     11\n",
       "Name: Gender, dtype: int64"
      ]
     },
     "execution_count": 9,
     "metadata": {},
     "output_type": "execute_result"
    }
   ],
   "source": [
    "gender_series = df_unique_players['Gender'].value_counts()\n",
    "gender_series"
   ]
  },
  {
   "cell_type": "code",
   "execution_count": 10,
   "metadata": {},
   "outputs": [
    {
     "data": {
      "text/plain": [
       "484"
      ]
     },
     "metadata": {},
     "output_type": "display_data"
    },
    {
     "data": {
      "text/plain": [
       "81"
      ]
     },
     "metadata": {},
     "output_type": "display_data"
    },
    {
     "data": {
      "text/plain": [
       "11"
      ]
     },
     "metadata": {},
     "output_type": "display_data"
    },
    {
     "data": {
      "text/plain": [
       "576"
      ]
     },
     "metadata": {},
     "output_type": "display_data"
    }
   ],
   "source": [
    "male_count = gender_series.iloc[0]\n",
    "female_count = gender_series.iloc[1]\n",
    "other_count = gender_series.iloc[2]\n",
    "\n",
    "display(\n",
    "    male_count,\n",
    "    female_count,\n",
    "    other_count,\n",
    "    total_unique_players\n",
    ")"
   ]
  },
  {
   "cell_type": "code",
   "execution_count": 11,
   "metadata": {},
   "outputs": [
    {
     "data": {
      "text/plain": [
       "84.02777777777779"
      ]
     },
     "metadata": {},
     "output_type": "display_data"
    },
    {
     "data": {
      "text/plain": [
       "14.0625"
      ]
     },
     "metadata": {},
     "output_type": "display_data"
    },
    {
     "data": {
      "text/plain": [
       "1.9097222222222223"
      ]
     },
     "metadata": {},
     "output_type": "display_data"
    }
   ],
   "source": [
    "male_percent = 100*(male_count / total_unique_players)\n",
    "female_percent = 100*(female_count / total_unique_players)\n",
    "other_percent = 100*(other_count / total_unique_players)\n",
    "\n",
    "display(\n",
    "    male_percent,\n",
    "    female_percent,\n",
    "    other_percent\n",
    ")"
   ]
  },
  {
   "cell_type": "code",
   "execution_count": 12,
   "metadata": {},
   "outputs": [
    {
     "data": {
      "text/html": [
       "<div>\n",
       "<style scoped>\n",
       "    .dataframe tbody tr th:only-of-type {\n",
       "        vertical-align: middle;\n",
       "    }\n",
       "\n",
       "    .dataframe tbody tr th {\n",
       "        vertical-align: top;\n",
       "    }\n",
       "\n",
       "    .dataframe thead th {\n",
       "        text-align: right;\n",
       "    }\n",
       "</style>\n",
       "<table border=\"1\" class=\"dataframe\">\n",
       "  <thead>\n",
       "    <tr style=\"text-align: right;\">\n",
       "      <th></th>\n",
       "      <th>Gender</th>\n",
       "      <th>Number_of_Players</th>\n",
       "      <th>Population_Percentage</th>\n",
       "    </tr>\n",
       "  </thead>\n",
       "  <tbody>\n",
       "    <tr>\n",
       "      <th>0</th>\n",
       "      <td>Male</td>\n",
       "      <td>484</td>\n",
       "      <td>84.03</td>\n",
       "    </tr>\n",
       "    <tr>\n",
       "      <th>1</th>\n",
       "      <td>Female</td>\n",
       "      <td>81</td>\n",
       "      <td>14.06</td>\n",
       "    </tr>\n",
       "    <tr>\n",
       "      <th>2</th>\n",
       "      <td>Other</td>\n",
       "      <td>11</td>\n",
       "      <td>1.91</td>\n",
       "    </tr>\n",
       "  </tbody>\n",
       "</table>\n",
       "</div>"
      ],
      "text/plain": [
       "   Gender  Number_of_Players  Population_Percentage\n",
       "0    Male                484                  84.03\n",
       "1  Female                 81                  14.06\n",
       "2   Other                 11                   1.91"
      ]
     },
     "execution_count": 12,
     "metadata": {},
     "output_type": "execute_result"
    }
   ],
   "source": [
    "Gender_Summary_Raw = {\n",
    "    \"Gender\": [\"Male\", \"Female\", \"Other\"],\n",
    "    \"Number_of_Players\": [male_count, female_count, other_count],\n",
    "    \"Population_Percentage\": [male_percent, female_percent, other_percent]\n",
    "}\n",
    "Gender_Summary_df = pd.DataFrame(Gender_Summary_Raw, columns=[\"Gender\", \"Number_of_Players\", \"Population_Percentage\"])\n",
    "Gender_Summary_dfr = Gender_Summary_df.round(decimals=2)\n",
    "Gender_Summary_dfr"
   ]
  },
  {
   "cell_type": "markdown",
   "metadata": {},
   "source": [
    "\n",
    "## Purchasing Analysis (Gender)"
   ]
  },
  {
   "cell_type": "markdown",
   "metadata": {},
   "source": [
    "* Run basic calculations to obtain purchase count, avg. purchase price, avg. purchase total per person etc. by gender\n",
    "\n",
    "\n",
    "\n",
    "\n",
    "* Create a summary data frame to hold the results\n",
    "\n",
    "\n",
    "* Optional: give the displayed data cleaner formatting\n",
    "\n",
    "\n",
    "* Display the summary data frame"
   ]
  },
  {
   "cell_type": "code",
   "execution_count": 13,
   "metadata": {},
   "outputs": [],
   "source": [
    "#gendered dataframes\n",
    "male_purchase = purchase_data[purchase_data['Gender'] == 'Male']\n",
    "female_purchase = purchase_data[purchase_data['Gender'] == 'Female']\n",
    "other_purchase = purchase_data[purchase_data['Gender'] == 'Other / Non-Disclosed']"
   ]
  },
  {
   "cell_type": "code",
   "execution_count": 14,
   "metadata": {},
   "outputs": [
    {
     "data": {
      "text/plain": [
       "652"
      ]
     },
     "metadata": {},
     "output_type": "display_data"
    },
    {
     "data": {
      "text/plain": [
       "113"
      ]
     },
     "metadata": {},
     "output_type": "display_data"
    },
    {
     "data": {
      "text/plain": [
       "15"
      ]
     },
     "metadata": {},
     "output_type": "display_data"
    }
   ],
   "source": [
    "#gendered purchase counts\n",
    "male_purchase_count = len(male_purchase['Purchase ID'])\n",
    "female_purchase_count = len(female_purchase['Purchase ID'])\n",
    "other_purchase_count = len(other_purchase['Purchase ID'])\n",
    "\n",
    "display(\n",
    "    male_purchase_count,\n",
    "    female_purchase_count,\n",
    "    other_purchase_count\n",
    ")"
   ]
  },
  {
   "cell_type": "code",
   "execution_count": 15,
   "metadata": {},
   "outputs": [
    {
     "data": {
      "text/plain": [
       "3.0178527607361967"
      ]
     },
     "metadata": {},
     "output_type": "display_data"
    },
    {
     "data": {
      "text/plain": [
       "3.203008849557522"
      ]
     },
     "metadata": {},
     "output_type": "display_data"
    },
    {
     "data": {
      "text/plain": [
       "3.3459999999999996"
      ]
     },
     "metadata": {},
     "output_type": "display_data"
    }
   ],
   "source": [
    "#gendered avg purchase price\n",
    "    #gendered rev\n",
    "male_revenue = male_purchase['Price'].sum()\n",
    "female_revenue = female_purchase['Price'].sum()\n",
    "other_revenue = other_purchase['Price'].sum()\n",
    "\n",
    "male_avg_pur_val = male_revenue / male_purchase_count\n",
    "female_avg_pur_val = female_revenue / female_purchase_count\n",
    "other_avg_pur_val = other_revenue / other_purchase_count\n",
    "\n",
    "display(\n",
    "    male_avg_pur_val,\n",
    "    female_avg_pur_val,\n",
    "    other_avg_pur_val   \n",
    ")\n"
   ]
  },
  {
   "cell_type": "code",
   "execution_count": 16,
   "metadata": {},
   "outputs": [
    {
     "data": {
      "text/plain": [
       "1.3471074380165289"
      ]
     },
     "metadata": {},
     "output_type": "display_data"
    },
    {
     "data": {
      "text/plain": [
       "1.3950617283950617"
      ]
     },
     "metadata": {},
     "output_type": "display_data"
    },
    {
     "data": {
      "text/plain": [
       "1.3636363636363635"
      ]
     },
     "metadata": {},
     "output_type": "display_data"
    }
   ],
   "source": [
    "#gendered avg purchase number (puchase count / players)\n",
    "male_avg_pur_count = male_purchase_count / male_count\n",
    "female_avg_pur_count = female_purchase_count / female_count\n",
    "other_avg_pur_count = other_purchase_count / other_count\n",
    "\n",
    "display(\n",
    "    male_avg_pur_count,\n",
    "    female_avg_pur_count,\n",
    "    other_avg_pur_count\n",
    ")"
   ]
  },
  {
   "cell_type": "code",
   "execution_count": 17,
   "metadata": {},
   "outputs": [
    {
     "data": {
      "text/html": [
       "<div>\n",
       "<style scoped>\n",
       "    .dataframe tbody tr th:only-of-type {\n",
       "        vertical-align: middle;\n",
       "    }\n",
       "\n",
       "    .dataframe tbody tr th {\n",
       "        vertical-align: top;\n",
       "    }\n",
       "\n",
       "    .dataframe thead th {\n",
       "        text-align: right;\n",
       "    }\n",
       "</style>\n",
       "<table border=\"1\" class=\"dataframe\">\n",
       "  <thead>\n",
       "    <tr style=\"text-align: right;\">\n",
       "      <th></th>\n",
       "      <th>Gender</th>\n",
       "      <th>Purchases_Made</th>\n",
       "      <th>Average_Number_Of_Purchases</th>\n",
       "      <th>Average_Cost_Per_Purchase</th>\n",
       "      <th>Total_Revenue</th>\n",
       "    </tr>\n",
       "  </thead>\n",
       "  <tbody>\n",
       "    <tr>\n",
       "      <th>0</th>\n",
       "      <td>Male</td>\n",
       "      <td>652</td>\n",
       "      <td>1.35</td>\n",
       "      <td>3.02</td>\n",
       "      <td>1967.64</td>\n",
       "    </tr>\n",
       "    <tr>\n",
       "      <th>1</th>\n",
       "      <td>Female</td>\n",
       "      <td>113</td>\n",
       "      <td>1.40</td>\n",
       "      <td>3.20</td>\n",
       "      <td>361.94</td>\n",
       "    </tr>\n",
       "    <tr>\n",
       "      <th>2</th>\n",
       "      <td>Other</td>\n",
       "      <td>15</td>\n",
       "      <td>1.36</td>\n",
       "      <td>3.35</td>\n",
       "      <td>50.19</td>\n",
       "    </tr>\n",
       "  </tbody>\n",
       "</table>\n",
       "</div>"
      ],
      "text/plain": [
       "   Gender  Purchases_Made  Average_Number_Of_Purchases  \\\n",
       "0    Male             652                         1.35   \n",
       "1  Female             113                         1.40   \n",
       "2   Other              15                         1.36   \n",
       "\n",
       "   Average_Cost_Per_Purchase  Total_Revenue  \n",
       "0                       3.02        1967.64  \n",
       "1                       3.20         361.94  \n",
       "2                       3.35          50.19  "
      ]
     },
     "execution_count": 17,
     "metadata": {},
     "output_type": "execute_result"
    }
   ],
   "source": [
    "#Gender Dataframe * Display Age Demographics Tabl\n",
    "Gender_Purchases_Raw = {\n",
    "    \"Gender\": [\"Male\", \"Female\", \"Other\"],\n",
    "    \"Purchases_Made\": [male_purchase_count, female_purchase_count, other_purchase_count],\n",
    "    \"Average_Number_Of_Purchases\": [male_avg_pur_count, female_avg_pur_count, other_avg_pur_count],\n",
    "    \"Average_Cost_Per_Purchase\": [male_avg_pur_val, female_avg_pur_val, other_avg_pur_val],\n",
    "    \"Total_Revenue\": [male_revenue, female_revenue, other_revenue]\n",
    "}\n",
    "Gender_Purchases_df = pd.DataFrame(Gender_Purchases_Raw, columns=[\"Gender\", \"Purchases_Made\", \"Average_Number_Of_Purchases\", \"Average_Cost_Per_Purchase\", \"Total_Revenue\"])\n",
    "Gender_Purchases_dfr =Gender_Purchases_df.round(decimals = 2)\n",
    "Gender_Purchases_dfr"
   ]
  },
  {
   "cell_type": "markdown",
   "metadata": {},
   "source": [
    "## Purchasing Analysis (Age)"
   ]
  },
  {
   "cell_type": "code",
   "execution_count": 18,
   "metadata": {},
   "outputs": [],
   "source": [
    "# AGE DEMOGRAPHICS* Bin the purchase_data data frame by age\n",
    "# Run basic calculations to obtain purchase count, avg. purchase price, avg. purchase total per person etc. in the table below\n",
    "# Create a summary data frame to hold the results\n",
    "# Optional: give the displayed data cleaner formatting\n",
    "# Display the summary data frame\n",
    "\n",
    "# Create the bins in which Data will be held\n",
    "bins = [6, 10, 14, 18, 22, 26, 30, 34, 38, 42, 46, 50]\n",
    "\n",
    "# Create the names for the bins\n",
    "group_names = [\"7-10\", \"11-14\", \"15-18\", \"19-22\", \"23-26\", \"27-30\", \"31-34\", \"35-38\", \"39-42\", \"43-46\", \"47-50\"]"
   ]
  },
  {
   "cell_type": "code",
   "execution_count": 19,
   "metadata": {
    "scrolled": true
   },
   "outputs": [],
   "source": [
    "#ADD aGE GROUP COLUMN\n",
    "purchase_data[\"Age_Group\"] = pd.cut(purchase_data[\"Age\"], bins, labels=group_names)\n"
   ]
  },
  {
   "cell_type": "code",
   "execution_count": 20,
   "metadata": {},
   "outputs": [],
   "source": [
    "#Counting items in bins\n",
    "age_group_su = purchase_data['Age_Group'].value_counts()\n",
    "\n"
   ]
  },
  {
   "cell_type": "code",
   "execution_count": 21,
   "metadata": {},
   "outputs": [],
   "source": [
    "#grouping values for summation by bin with .loc\n",
    "age_val_df = purchase_data[['Age_Group', 'Price']]\n",
    "df7 = age_val_df.loc[age_val_df['Age_Group']=='7-10']\n",
    "df11 = age_val_df.loc[age_val_df['Age_Group']=='11-14']\n",
    "df15 = age_val_df.loc[age_val_df['Age_Group']=='15-18']\n",
    "df19 = age_val_df.loc[age_val_df['Age_Group']=='19-22']\n",
    "df23 = age_val_df.loc[age_val_df['Age_Group']=='23-26']\n",
    "df27 = age_val_df.loc[age_val_df['Age_Group']=='27-30']\n",
    "df31 = age_val_df.loc[age_val_df['Age_Group']=='31-34']\n",
    "df35 = age_val_df.loc[age_val_df['Age_Group']=='35-38']\n",
    "df39 = age_val_df.loc[age_val_df['Age_Group']=='39-42']\n",
    "df43 = age_val_df.loc[age_val_df['Age_Group']=='43-46']\n",
    "df47 = age_val_df.loc[age_val_df['Age_Group']=='47-50']\n",
    "#summations\n",
    "df7_sum = df7['Price'].sum()\n",
    "df11_sum = df11['Price'].sum()\n",
    "df15_sum = df15['Price'].sum()\n",
    "df19_sum = df19['Price'].sum()\n",
    "df23_sum = df23['Price'].sum()\n",
    "df27_sum = df27['Price'].sum()\n",
    "df31_sum = df31['Price'].sum()\n",
    "df35_sum = df35['Price'].sum()\n",
    "df39_sum = df39['Price'].sum()\n",
    "df43_sum = df43['Price'].sum()\n",
    "df47_sum = df47['Price'].sum()"
   ]
  },
  {
   "cell_type": "code",
   "execution_count": 22,
   "metadata": {},
   "outputs": [],
   "source": [
    "#storing bin counts\n",
    "bu_7 = age_group_su[0]\n",
    "bu_11 = age_group_su[1]\n",
    "bu_15 = age_group_su[2]\n",
    "bu_19 = age_group_su[3]\n",
    "bu_23 = age_group_su[4]\n",
    "bu_27 = age_group_su[5]\n",
    "bu_31 = age_group_su[6]\n",
    "bu_35 = age_group_su[7]\n",
    "bu_39 = age_group_su[8]\n",
    "bu_43 = age_group_su[9]\n",
    "bu_47 = age_group_su[10]\n"
   ]
  },
  {
   "cell_type": "code",
   "execution_count": 23,
   "metadata": {},
   "outputs": [],
   "source": [
    "#Avg purchase value per person bin Value/ Bin count\n",
    "\n",
    "bu_7v =  df7_sum / bu_7 \n",
    "bu_11v =  df11_sum /bu_11 \n",
    "bu_15v =  df15_sum /bu_15 \n",
    "bu_19v =  df19_sum /bu_19 \n",
    "bu_23v =  df23_sum /bu_23 \n",
    "bu_27v =  df27_sum /bu_27 \n",
    "bu_31v =  df31_sum /bu_31\n",
    "bu_35v =  df35_sum /bu_35 \n",
    "bu_39v =  df39_sum /bu_39 \n",
    "bu_43v = df43_sum /bu_43 \n"
   ]
  },
  {
   "cell_type": "code",
   "execution_count": 24,
   "metadata": {},
   "outputs": [],
   "source": [
    "#Calculate the numbers and percentages by age group\n",
    "bu_7_per = (bu_7 / total_unique_players) * 100\n",
    "bu_11_per = (bu_11 /total_unique_players) * 100\n",
    "bu_15_per = (bu_15 / total_unique_players) * 100\n",
    "bu_19_per = (bu_19 / total_unique_players) * 100\n",
    "bu_23_per = (bu_23 / total_unique_players) * 100\n",
    "bu_27_per = (bu_27 / total_unique_players) * 100\n",
    "bu_31_per = (bu_31 / total_unique_players) * 100\n",
    "bu_35_per = (bu_35 / total_unique_players) * 100\n",
    "bu_39_per = (bu_39 / total_unique_players) * 100\n",
    "bu_43_per = (bu_43 / total_unique_players) * 100\n",
    "bu_47_per = (bu_47 / total_unique_players) * 100"
   ]
  },
  {
   "cell_type": "code",
   "execution_count": 25,
   "metadata": {
    "scrolled": true
   },
   "outputs": [
    {
     "data": {
      "text/html": [
       "<div>\n",
       "<style scoped>\n",
       "    .dataframe tbody tr th:only-of-type {\n",
       "        vertical-align: middle;\n",
       "    }\n",
       "\n",
       "    .dataframe tbody tr th {\n",
       "        vertical-align: top;\n",
       "    }\n",
       "\n",
       "    .dataframe thead th {\n",
       "        text-align: right;\n",
       "    }\n",
       "</style>\n",
       "<table border=\"1\" class=\"dataframe\">\n",
       "  <thead>\n",
       "    <tr style=\"text-align: right;\">\n",
       "      <th></th>\n",
       "      <th>Age_in_years</th>\n",
       "      <th>Number_of_purchases</th>\n",
       "      <th>Percent_of_purchases</th>\n",
       "      <th>Average_purchase_value_per_person</th>\n",
       "    </tr>\n",
       "  </thead>\n",
       "  <tbody>\n",
       "    <tr>\n",
       "      <th>0</th>\n",
       "      <td>7-10</td>\n",
       "      <td>32</td>\n",
       "      <td>5.56</td>\n",
       "      <td>3.40</td>\n",
       "    </tr>\n",
       "    <tr>\n",
       "      <th>1</th>\n",
       "      <td>11-14</td>\n",
       "      <td>19</td>\n",
       "      <td>3.30</td>\n",
       "      <td>2.68</td>\n",
       "    </tr>\n",
       "    <tr>\n",
       "      <th>2</th>\n",
       "      <td>15-18</td>\n",
       "      <td>113</td>\n",
       "      <td>19.62</td>\n",
       "      <td>3.03</td>\n",
       "    </tr>\n",
       "    <tr>\n",
       "      <th>3</th>\n",
       "      <td>19-22</td>\n",
       "      <td>254</td>\n",
       "      <td>44.10</td>\n",
       "      <td>3.04</td>\n",
       "    </tr>\n",
       "    <tr>\n",
       "      <th>4</th>\n",
       "      <td>23-26</td>\n",
       "      <td>207</td>\n",
       "      <td>35.94</td>\n",
       "      <td>3.06</td>\n",
       "    </tr>\n",
       "    <tr>\n",
       "      <th>5</th>\n",
       "      <td>27-30</td>\n",
       "      <td>63</td>\n",
       "      <td>10.94</td>\n",
       "      <td>2.88</td>\n",
       "    </tr>\n",
       "    <tr>\n",
       "      <th>6</th>\n",
       "      <td>31-34</td>\n",
       "      <td>38</td>\n",
       "      <td>6.60</td>\n",
       "      <td>2.73</td>\n",
       "    </tr>\n",
       "    <tr>\n",
       "      <th>7</th>\n",
       "      <td>35-38</td>\n",
       "      <td>35</td>\n",
       "      <td>6.08</td>\n",
       "      <td>3.55</td>\n",
       "    </tr>\n",
       "    <tr>\n",
       "      <th>8</th>\n",
       "      <td>39-42</td>\n",
       "      <td>15</td>\n",
       "      <td>2.60</td>\n",
       "      <td>3.37</td>\n",
       "    </tr>\n",
       "    <tr>\n",
       "      <th>9</th>\n",
       "      <td>43-46</td>\n",
       "      <td>4</td>\n",
       "      <td>0.69</td>\n",
       "      <td>2.76</td>\n",
       "    </tr>\n",
       "    <tr>\n",
       "      <th>10</th>\n",
       "      <td>47-50</td>\n",
       "      <td>0</td>\n",
       "      <td>0.00</td>\n",
       "      <td>0.00</td>\n",
       "    </tr>\n",
       "  </tbody>\n",
       "</table>\n",
       "</div>"
      ],
      "text/plain": [
       "   Age_in_years  Number_of_purchases  Percent_of_purchases  \\\n",
       "0          7-10                   32                  5.56   \n",
       "1         11-14                   19                  3.30   \n",
       "2         15-18                  113                 19.62   \n",
       "3         19-22                  254                 44.10   \n",
       "4         23-26                  207                 35.94   \n",
       "5         27-30                   63                 10.94   \n",
       "6         31-34                   38                  6.60   \n",
       "7         35-38                   35                  6.08   \n",
       "8         39-42                   15                  2.60   \n",
       "9         43-46                    4                  0.69   \n",
       "10        47-50                    0                  0.00   \n",
       "\n",
       "    Average_purchase_value_per_person  \n",
       "0                                3.40  \n",
       "1                                2.68  \n",
       "2                                3.03  \n",
       "3                                3.04  \n",
       "4                                3.06  \n",
       "5                                2.88  \n",
       "6                                2.73  \n",
       "7                                3.55  \n",
       "8                                3.37  \n",
       "9                                2.76  \n",
       "10                               0.00  "
      ]
     },
     "execution_count": 25,
     "metadata": {},
     "output_type": "execute_result"
    }
   ],
   "source": [
    "#Unique Bin DF[\"7-10\", \"11-14\", \"15-18\", \"19-22\", \"23-26\", \"27-30\", \"31-34\", \"35-38\", \"39-42\", \"43-46\", \"47-50\"]\n",
    "bu_Raw = {\n",
    "    \"Age_in_years\": [\"7-10\", \"11-14\", \"15-18\", \"19-22\", \"23-26\", \"27-30\", \"31-34\", \"35-38\", \"39-42\", \"43-46\", \"47-50\"],\n",
    "    \"Number_of_purchases\": [bu_7, bu_11, bu_15, bu_19, bu_23, bu_27, bu_31, bu_35, bu_39, bu_43, bu_47],\n",
    "    \"Percent_of_purchases\":[bu_7_per, bu_11_per, bu_15_per, bu_19_per, bu_23_per, bu_27_per, bu_31_per, bu_35_per, bu_39_per, bu_43_per, bu_47_per],\n",
    "    \"Average_purchase_value_per_person\":[bu_7v, bu_11v, bu_15v, bu_19v, bu_23v, bu_27v, bu_31v, bu_35v, bu_39v, bu_43v, 0]\n",
    "}\n",
    "bu_df = pd.DataFrame(bu_Raw, columns=[\"Age_in_years\", \"Number_of_purchases\", \"Percent_of_purchases\", \"Average_purchase_value_per_person\"])\n",
    "bu_dfr =bu_df.round(decimals = 2)\n",
    "\n",
    "bu_dfr\n"
   ]
  },
  {
   "cell_type": "markdown",
   "metadata": {},
   "source": [
    "## Top Spenders"
   ]
  },
  {
   "cell_type": "markdown",
   "metadata": {},
   "source": [
    "* Run basic calculations to obtain the results in the table below\n",
    "\n",
    "\n",
    "* Create a summary data frame to hold the results\n",
    "\n",
    "\n",
    "* Sort the total purchase value column in descending order\n",
    "\n",
    "\n",
    "* Optional: give the displayed data cleaner formatting\n",
    "\n",
    "\n",
    "* Display a preview of the summary data frame\n",
    "\n"
   ]
  },
  {
   "cell_type": "code",
   "execution_count": 60,
   "metadata": {},
   "outputs": [
    {
     "data": {
      "text/html": [
       "<div>\n",
       "<style scoped>\n",
       "    .dataframe tbody tr th:only-of-type {\n",
       "        vertical-align: middle;\n",
       "    }\n",
       "\n",
       "    .dataframe tbody tr th {\n",
       "        vertical-align: top;\n",
       "    }\n",
       "\n",
       "    .dataframe thead th {\n",
       "        text-align: right;\n",
       "    }\n",
       "</style>\n",
       "<table border=\"1\" class=\"dataframe\">\n",
       "  <thead>\n",
       "    <tr style=\"text-align: right;\">\n",
       "      <th></th>\n",
       "      <th>Purchase Count</th>\n",
       "      <th>Average Purchase Price</th>\n",
       "      <th>Total_Purchase_Value</th>\n",
       "    </tr>\n",
       "    <tr>\n",
       "      <th>SN</th>\n",
       "      <th></th>\n",
       "      <th></th>\n",
       "      <th></th>\n",
       "    </tr>\n",
       "  </thead>\n",
       "  <tbody>\n",
       "    <tr>\n",
       "      <th>Lisosia93</th>\n",
       "      <td>5</td>\n",
       "      <td>3.79</td>\n",
       "      <td>18.96</td>\n",
       "    </tr>\n",
       "    <tr>\n",
       "      <th>Idastidru52</th>\n",
       "      <td>4</td>\n",
       "      <td>3.86</td>\n",
       "      <td>15.45</td>\n",
       "    </tr>\n",
       "    <tr>\n",
       "      <th>Chamjask73</th>\n",
       "      <td>3</td>\n",
       "      <td>4.61</td>\n",
       "      <td>13.83</td>\n",
       "    </tr>\n",
       "    <tr>\n",
       "      <th>Iral74</th>\n",
       "      <td>4</td>\n",
       "      <td>3.40</td>\n",
       "      <td>13.62</td>\n",
       "    </tr>\n",
       "    <tr>\n",
       "      <th>Iskadarya95</th>\n",
       "      <td>3</td>\n",
       "      <td>4.37</td>\n",
       "      <td>13.10</td>\n",
       "    </tr>\n",
       "  </tbody>\n",
       "</table>\n",
       "</div>"
      ],
      "text/plain": [
       "             Purchase Count  Average Purchase Price  Total_Purchase_Value\n",
       "SN                                                                       \n",
       "Lisosia93                 5                    3.79                 18.96\n",
       "Idastidru52               4                    3.86                 15.45\n",
       "Chamjask73                3                    4.61                 13.83\n",
       "Iral74                    4                    3.40                 13.62\n",
       "Iskadarya95               3                    4.37                 13.10"
      ]
     },
     "execution_count": 60,
     "metadata": {},
     "output_type": "execute_result"
    }
   ],
   "source": [
    "#f43 = age_val_df.loc[age_val_df['Age_Group']=='43-46'] max 5 min 1\n",
    "#Create goupby Obj by username #   \"Total_Purchase_Value\": [gSNTotal.map(\"${:.2f}\".format)],\n",
    "  #  \"Number_of_purchases\": [gSNCount],\n",
    "   # \"Average_purchase_value\":[gSNAvg]\n",
    "#}\n",
    "#SN_df = pd.DataFrame(SN_Raw, columns=[\"Total_Purchase_Value\",  \"Number_of_purchases\", \"Average_purchase_value\"])\n",
    "#SN_dfr =SN_df.round(decimals = 2)\n",
    "#SN_dfr\n",
    "\n",
    "#^^^MUCH FAIL^^^^\n",
    "#<<BETTER METHOD>>\n",
    "\n",
    "gBySN = purchase_data.groupby([\"SN\"])\n",
    "#Count how many itemssn were puchased by SN\n",
    "gSNCount = gBySN[\"Item ID\"].count()\n",
    "\n",
    "gSNTotal = groupedBySN[\"Price\"].sum()\n",
    "\n",
    "gSNAvg = (gSNTotal / gSNCount)\n",
    "\n",
    "# Make DF \n",
    "SN_DF = pd.DataFrame({\"Purchase Count\": gSNCount,\n",
    "                         \"Average Purchase Price\": gSNAvg,\n",
    "                         \"Total_Purchase_Value\": gSNTotal})\n",
    "\n",
    "#Sort Data\n",
    "SN_DF= SN_DF.sort_values(\"Total_Purchase_Value\", ascending=False) \n",
    "SN_DF = SN_DF.round(decimals = 2)\n",
    "SN_DF.head(5)\n",
    "\n"
   ]
  },
  {
   "cell_type": "markdown",
   "metadata": {},
   "source": [
    "## Most Popular Items"
   ]
  },
  {
   "cell_type": "markdown",
   "metadata": {},
   "source": [
    "* Retrieve the Item ID, Item Name, and Item Price columns\n",
    "\n",
    "\n",
    "* Group by Item ID and Item Name. Perform calculations to obtain purchase count, item price, and total purchase value\n",
    "\n",
    "\n",
    "* Create a summary data frame to hold the results\n",
    "\n",
    "\n",
    "* Sort the purchase count column in descending order\n",
    "\n",
    "\n",
    "* Optional: give the displayed data cleaner formatting\n",
    "\n",
    "\n",
    "* Display a preview of the summary data frame\n",
    "\n"
   ]
  },
  {
   "cell_type": "code",
   "execution_count": 72,
   "metadata": {},
   "outputs": [
    {
     "data": {
      "text/html": [
       "<div>\n",
       "<style scoped>\n",
       "    .dataframe tbody tr th:only-of-type {\n",
       "        vertical-align: middle;\n",
       "    }\n",
       "\n",
       "    .dataframe tbody tr th {\n",
       "        vertical-align: top;\n",
       "    }\n",
       "\n",
       "    .dataframe thead th {\n",
       "        text-align: right;\n",
       "    }\n",
       "</style>\n",
       "<table border=\"1\" class=\"dataframe\">\n",
       "  <thead>\n",
       "    <tr style=\"text-align: right;\">\n",
       "      <th></th>\n",
       "      <th></th>\n",
       "      <th>Purchase_Count</th>\n",
       "      <th>Item_Price</th>\n",
       "      <th>Total_Item_Income</th>\n",
       "    </tr>\n",
       "    <tr>\n",
       "      <th>Item ID</th>\n",
       "      <th>Item Name</th>\n",
       "      <th></th>\n",
       "      <th></th>\n",
       "      <th></th>\n",
       "    </tr>\n",
       "  </thead>\n",
       "  <tbody>\n",
       "    <tr>\n",
       "      <th>178</th>\n",
       "      <th>Oathbreaker, Last Hope of the Breaking Storm</th>\n",
       "      <td>12</td>\n",
       "      <td>4.23</td>\n",
       "      <td>50.76</td>\n",
       "    </tr>\n",
       "    <tr>\n",
       "      <th>145</th>\n",
       "      <th>Fiery Glass Crusader</th>\n",
       "      <td>9</td>\n",
       "      <td>4.58</td>\n",
       "      <td>41.22</td>\n",
       "    </tr>\n",
       "    <tr>\n",
       "      <th>108</th>\n",
       "      <th>Extraction, Quickblade Of Trembling Hands</th>\n",
       "      <td>9</td>\n",
       "      <td>3.53</td>\n",
       "      <td>31.77</td>\n",
       "    </tr>\n",
       "    <tr>\n",
       "      <th>82</th>\n",
       "      <th>Nirvana</th>\n",
       "      <td>9</td>\n",
       "      <td>4.90</td>\n",
       "      <td>44.10</td>\n",
       "    </tr>\n",
       "    <tr>\n",
       "      <th>19</th>\n",
       "      <th>Pursuit, Cudgel of Necromancy</th>\n",
       "      <td>8</td>\n",
       "      <td>1.02</td>\n",
       "      <td>8.16</td>\n",
       "    </tr>\n",
       "  </tbody>\n",
       "</table>\n",
       "</div>"
      ],
      "text/plain": [
       "                                                      Purchase_Count  \\\n",
       "Item ID Item Name                                                      \n",
       "178     Oathbreaker, Last Hope of the Breaking Storm              12   \n",
       "145     Fiery Glass Crusader                                       9   \n",
       "108     Extraction, Quickblade Of Trembling Hands                  9   \n",
       "82      Nirvana                                                    9   \n",
       "19      Pursuit, Cudgel of Necromancy                              8   \n",
       "\n",
       "                                                      Item_Price  \\\n",
       "Item ID Item Name                                                  \n",
       "178     Oathbreaker, Last Hope of the Breaking Storm        4.23   \n",
       "145     Fiery Glass Crusader                                4.58   \n",
       "108     Extraction, Quickblade Of Trembling Hands           3.53   \n",
       "82      Nirvana                                             4.90   \n",
       "19      Pursuit, Cudgel of Necromancy                       1.02   \n",
       "\n",
       "                                                      Total_Item_Income  \n",
       "Item ID Item Name                                                        \n",
       "178     Oathbreaker, Last Hope of the Breaking Storm              50.76  \n",
       "145     Fiery Glass Crusader                                      41.22  \n",
       "108     Extraction, Quickblade Of Trembling Hands                 31.77  \n",
       "82      Nirvana                                                   44.10  \n",
       "19      Pursuit, Cudgel of Necromancy                              8.16  "
      ]
     },
     "execution_count": 72,
     "metadata": {},
     "output_type": "execute_result"
    }
   ],
   "source": [
    "#Make groupby for calculatinos\n",
    "gitem = purchase_data.groupby([\"Item ID\", \"Item Name\"])\n",
    "#Count Items Sold\n",
    "gitem_Count = gitem[\"SN\"].count()\n",
    "#Sum Profit for each item\n",
    "gitem_Sum = gitem['Price'].sum()\n",
    "#CALC item price using above sum and count\n",
    "gitem_Price = (gitem_Sum / gitem_Count)\n",
    "\n",
    "#Make DF\n",
    "Popular_Items = pd.DataFrame({\"Purchase_Count\": gitem_Count,\n",
    "                          \"Item_Price\": gitem_Price,\n",
    "                          \"Total_Item_Income\": gitem_Sum})\n",
    "#Sort Data\n",
    "Popular_Items = Popular_Items.sort_values(\"Purchase_Count\", ascending=False)\n",
    "Popular_Items.head()\n",
    "\n",
    "\n"
   ]
  },
  {
   "cell_type": "markdown",
   "metadata": {},
   "source": [
    "## Most Profitable Items"
   ]
  },
  {
   "cell_type": "markdown",
   "metadata": {},
   "source": [
    "* Sort the above table by total purchase value in descending order\n",
    "\n",
    "\n",
    "* Optional: give the displayed data cleaner formatting\n",
    "\n",
    "\n",
    "* Display a preview of the data frame\n",
    "\n"
   ]
  },
  {
   "cell_type": "code",
   "execution_count": 74,
   "metadata": {
    "scrolled": true
   },
   "outputs": [
    {
     "data": {
      "text/html": [
       "<div>\n",
       "<style scoped>\n",
       "    .dataframe tbody tr th:only-of-type {\n",
       "        vertical-align: middle;\n",
       "    }\n",
       "\n",
       "    .dataframe tbody tr th {\n",
       "        vertical-align: top;\n",
       "    }\n",
       "\n",
       "    .dataframe thead th {\n",
       "        text-align: right;\n",
       "    }\n",
       "</style>\n",
       "<table border=\"1\" class=\"dataframe\">\n",
       "  <thead>\n",
       "    <tr style=\"text-align: right;\">\n",
       "      <th></th>\n",
       "      <th></th>\n",
       "      <th>Purchase_Count</th>\n",
       "      <th>Item_Price</th>\n",
       "      <th>Total_Item_Income</th>\n",
       "    </tr>\n",
       "    <tr>\n",
       "      <th>Item ID</th>\n",
       "      <th>Item Name</th>\n",
       "      <th></th>\n",
       "      <th></th>\n",
       "      <th></th>\n",
       "    </tr>\n",
       "  </thead>\n",
       "  <tbody>\n",
       "    <tr>\n",
       "      <th>178</th>\n",
       "      <th>Oathbreaker, Last Hope of the Breaking Storm</th>\n",
       "      <td>12</td>\n",
       "      <td>4.23</td>\n",
       "      <td>50.76</td>\n",
       "    </tr>\n",
       "    <tr>\n",
       "      <th>82</th>\n",
       "      <th>Nirvana</th>\n",
       "      <td>9</td>\n",
       "      <td>4.90</td>\n",
       "      <td>44.10</td>\n",
       "    </tr>\n",
       "    <tr>\n",
       "      <th>145</th>\n",
       "      <th>Fiery Glass Crusader</th>\n",
       "      <td>9</td>\n",
       "      <td>4.58</td>\n",
       "      <td>41.22</td>\n",
       "    </tr>\n",
       "    <tr>\n",
       "      <th>92</th>\n",
       "      <th>Final Critic</th>\n",
       "      <td>8</td>\n",
       "      <td>4.88</td>\n",
       "      <td>39.04</td>\n",
       "    </tr>\n",
       "    <tr>\n",
       "      <th>103</th>\n",
       "      <th>Singed Scalpel</th>\n",
       "      <td>8</td>\n",
       "      <td>4.35</td>\n",
       "      <td>34.80</td>\n",
       "    </tr>\n",
       "  </tbody>\n",
       "</table>\n",
       "</div>"
      ],
      "text/plain": [
       "                                                      Purchase_Count  \\\n",
       "Item ID Item Name                                                      \n",
       "178     Oathbreaker, Last Hope of the Breaking Storm              12   \n",
       "82      Nirvana                                                    9   \n",
       "145     Fiery Glass Crusader                                       9   \n",
       "92      Final Critic                                               8   \n",
       "103     Singed Scalpel                                             8   \n",
       "\n",
       "                                                      Item_Price  \\\n",
       "Item ID Item Name                                                  \n",
       "178     Oathbreaker, Last Hope of the Breaking Storm        4.23   \n",
       "82      Nirvana                                             4.90   \n",
       "145     Fiery Glass Crusader                                4.58   \n",
       "92      Final Critic                                        4.88   \n",
       "103     Singed Scalpel                                      4.35   \n",
       "\n",
       "                                                      Total_Item_Income  \n",
       "Item ID Item Name                                                        \n",
       "178     Oathbreaker, Last Hope of the Breaking Storm              50.76  \n",
       "82      Nirvana                                                   44.10  \n",
       "145     Fiery Glass Crusader                                      41.22  \n",
       "92      Final Critic                                              39.04  \n",
       "103     Singed Scalpel                                            34.80  "
      ]
     },
     "execution_count": 74,
     "metadata": {},
     "output_type": "execute_result"
    }
   ],
   "source": [
    "#Same as above sorted by Revenue rather than count\n",
    "Profitable_Items = Popular_Items.sort_values(\"Total_Item_Income\", ascending=False)\n",
    "Profitable_Items.head()"
   ]
  }
 ],
 "metadata": {
  "anaconda-cloud": {},
  "kernel_info": {
   "name": "python3"
  },
  "kernelspec": {
   "display_name": "Python 3",
   "language": "python",
   "name": "python3"
  },
  "language_info": {
   "codemirror_mode": {
    "name": "ipython",
    "version": 3
   },
   "file_extension": ".py",
   "mimetype": "text/x-python",
   "name": "python",
   "nbconvert_exporter": "python",
   "pygments_lexer": "ipython3",
   "version": "3.7.1"
  },
  "nteract": {
   "version": "0.2.0"
  }
 },
 "nbformat": 4,
 "nbformat_minor": 2
}
